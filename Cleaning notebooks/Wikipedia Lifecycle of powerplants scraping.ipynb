{
 "cells": [
  {
   "cell_type": "code",
   "execution_count": 1,
   "id": "ef74e863",
   "metadata": {},
   "outputs": [],
   "source": [
    "from bs4 import BeautifulSoup # biblioteca para análisis y extracción de datos de archivos HTML y XML.\n",
    "import requests\n",
    "import pandas as pd"
   ]
  },
  {
   "cell_type": "code",
   "execution_count": 2,
   "id": "26e4d116",
   "metadata": {},
   "outputs": [
    {
     "name": "stdout",
     "output_type": "stream",
     "text": [
      "200\n"
     ]
    }
   ],
   "source": [
    "url = 'https://en.wikipedia.org/wiki/Life-cycle_greenhouse_gas_emissions_of_energy_sources'\n",
    "res = requests.get(url)\n",
    "print(res.status_code)"
   ]
  },
  {
   "cell_type": "code",
   "execution_count": 3,
   "id": "df82eeb5",
   "metadata": {},
   "outputs": [],
   "source": [
    "soup = BeautifulSoup(res.content, 'html.parser')"
   ]
  },
  {
   "cell_type": "code",
   "execution_count": 4,
   "id": "92bf08a3",
   "metadata": {},
   "outputs": [
    {
     "name": "stdout",
     "output_type": "stream",
     "text": [
      "<class 'bs4.BeautifulSoup'>\n",
      "El número de tablas que tenemos en la página web es: 6\n"
     ]
    }
   ],
   "source": [
    "tablas = soup.find_all(\"table\")\n",
    "print(type(soup))\n",
    "print(\"El número de tablas que tenemos en la página web es:\", len(tablas))"
   ]
  },
  {
   "cell_type": "code",
   "execution_count": 5,
   "id": "4a4ce5e2",
   "metadata": {
    "scrolled": true
   },
   "outputs": [
    {
     "name": "stdout",
     "output_type": "stream",
     "text": [
      "En la tabla 3 tenemos: \n",
      "  <table class=\"wikitable sortable\">\n",
      "<caption>Life cycle CO<sub>2</sub> equivalent (including <a href=\"/wiki/Albedo\" title=\"Albedo\">albedo</a> effect) from selected electricity supply technologies according to IPCC 2014.<sup class=\"reference\" id=\"cite_ref-IPCC_2014_Annex_III_3-1\"><a href=\"#cite_note-IPCC_2014_Annex_III-3\">[3]</a></sup><sup class=\"reference\" id=\"cite_ref-4\"><a href=\"#cite_note-4\">[4]</a></sup> Arranged by decreasing <a href=\"/wiki/Median\" title=\"Median\">median</a> (gCO<sub style=\"font-size: 80%;vertical-align: -0.35em\">2</sub>eq/kWh) values.\n",
      "</caption>\n",
      "<tbody><tr>\n",
      "<th>Technology</th>\n",
      "<th>Min.</th>\n",
      "<th>Median</th>\n",
      "<th>Max.\n",
      "</th></tr>\n",
      "<tr>\n",
      "<th colspan=\"4\">Currently commercially available technologies\n",
      "</th></tr>\n",
      "<tr>\n",
      "<td><a href=\"/wiki/Coal\" title=\"Coal\">Coal</a> – <a href=\"/wiki/Coal_burner\" title=\"Coal burner\">PC</a></td>\n",
      "<td align=\"right\">740</td>\n",
      "<td align=\"right\">820</td>\n",
      "<td align=\"right\">910\n",
      "</td></tr>\n",
      "<tr>\n",
      "<td><a class=\"mw-redirect\" href=\"/wiki/Fossil_gas\" title=\"Fossil gas\">Gas</a> – <a class=\"mw-redirect\" href=\"/wiki/Combined_cycle\" title=\"Combined cycle\">combined cycle</a></td>\n",
      "<td align=\"right\">410</td>\n",
      "<td align=\"right\">490</td>\n",
      "<td align=\"right\">650\n",
      "</td></tr>\n",
      "<tr>\n",
      "<td><a href=\"/wiki/Biomass\" title=\"Biomass\">Biomass</a> – Dedicated</td>\n",
      "<td align=\"right\">130</td>\n",
      "<td align=\"right\">230</td>\n",
      "<td align=\"right\">420\n",
      "</td></tr>\n",
      "<tr>\n",
      "<td><a class=\"mw-redirect\" href=\"/wiki/Solar_PV\" title=\"Solar PV\">Solar PV</a> – Utility scale</td>\n",
      "<td align=\"right\">18</td>\n",
      "<td align=\"right\">48</td>\n",
      "<td align=\"right\">180\n",
      "</td></tr>\n",
      "<tr>\n",
      "<td><a class=\"mw-redirect\" href=\"/wiki/Solar_PV\" title=\"Solar PV\">Solar PV</a> – rooftop</td>\n",
      "<td align=\"right\">26</td>\n",
      "<td align=\"right\">41</td>\n",
      "<td align=\"right\">60\n",
      "</td></tr>\n",
      "<tr>\n",
      "<td><a href=\"/wiki/Geothermal_power\" title=\"Geothermal power\">Geothermal</a></td>\n",
      "<td align=\"right\">6.0</td>\n",
      "<td align=\"right\">38</td>\n",
      "<td align=\"right\">79\n",
      "</td></tr>\n",
      "<tr>\n",
      "<td><a href=\"/wiki/Concentrated_solar_power\" title=\"Concentrated solar power\">Concentrated solar power</a></td>\n",
      "<td align=\"right\">8.8</td>\n",
      "<td align=\"right\">27</td>\n",
      "<td align=\"right\">63\n",
      "</td></tr>\n",
      "<tr>\n",
      "<td><a href=\"/wiki/Hydropower\" title=\"Hydropower\">Hydropower</a></td>\n",
      "<td align=\"right\">1.0</td>\n",
      "<td align=\"right\">24</td>\n",
      "<td align=\"right\">2200<sup>1</sup>\n",
      "</td></tr>\n",
      "<tr>\n",
      "<td><a href=\"/wiki/Wind_turbine\" title=\"Wind turbine\">Wind</a> Offshore</td>\n",
      "<td align=\"right\">8.0</td>\n",
      "<td align=\"right\">12</td>\n",
      "<td align=\"right\">35\n",
      "</td></tr>\n",
      "<tr>\n",
      "<td><a href=\"/wiki/Nuclear_power\" title=\"Nuclear power\">Nuclear</a></td>\n",
      "<td align=\"right\">3.7</td>\n",
      "<td align=\"right\">12</td>\n",
      "<td align=\"right\">110\n",
      "</td></tr>\n",
      "<tr>\n",
      "<td>Wind Onshore</td>\n",
      "<td align=\"right\">7.0</td>\n",
      "<td align=\"right\">11</td>\n",
      "<td align=\"right\">56\n",
      "</td></tr>\n",
      "<tr>\n",
      "<th colspan=\"4\">Pre‐commercial technologies\n",
      "</th></tr>\n",
      "<tr>\n",
      "<td>Ocean (<a href=\"/wiki/Tidal_power\" title=\"Tidal power\">Tidal</a> and <a href=\"/wiki/Wave_power\" title=\"Wave power\">wave</a>)</td>\n",
      "<td align=\"right\">5.6</td>\n",
      "<td align=\"right\">17</td>\n",
      "<td align=\"right\">28\n",
      "</td></tr></tbody></table>\n"
     ]
    }
   ],
   "source": [
    "print(\"En la tabla 3 tenemos: \\n \", tablas[3])"
   ]
  },
  {
   "cell_type": "code",
   "execution_count": 6,
   "id": "621437b4",
   "metadata": {},
   "outputs": [],
   "source": [
    "data = tablas[3]\n",
    "\n",
    "dictionary = {'Technology': [],\n",
    "              'Min.': [],\n",
    "              'Median': [],\n",
    "              'Max.': [],\n",
    "              'Currently commercially available technologies': []\n",
    "            }"
   ]
  },
  {
   "cell_type": "code",
   "execution_count": 7,
   "id": "d956fe38",
   "metadata": {
    "scrolled": true
   },
   "outputs": [
    {
     "name": "stdout",
     "output_type": "stream",
     "text": [
      "<class 'bs4.element.ResultSet'>\n"
     ]
    }
   ],
   "source": [
    "print(type(data.findAll(\"tr\")))"
   ]
  },
  {
   "cell_type": "code",
   "execution_count": 8,
   "id": "4290e571",
   "metadata": {},
   "outputs": [],
   "source": [
    "medalleros = tablas[3]\n",
    "\n",
    "dictionary = {'Technology': [],\n",
    "              'Min.': [],\n",
    "              'Median': [],\n",
    "              'Max.': [],\n",
    "              'Currently commercially available technologies': [],\n",
    "              'Pre‐commercial technologies': []\n",
    "            }"
   ]
  },
  {
   "cell_type": "code",
   "execution_count": 9,
   "id": "c706e753",
   "metadata": {
    "scrolled": true
   },
   "outputs": [
    {
     "name": "stdout",
     "output_type": "stream",
     "text": [
      "<class 'bs4.element.ResultSet'>\n"
     ]
    }
   ],
   "source": [
    "print(type(medalleros.findAll(\"tr\")))"
   ]
  },
  {
   "cell_type": "code",
   "execution_count": 10,
   "id": "e84a51ec",
   "metadata": {},
   "outputs": [
    {
     "data": {
      "text/plain": [
       "[<th>Technology</th>,\n",
       " <th>Min.</th>,\n",
       " <th>Median</th>,\n",
       " <th>Max.\n",
       " </th>,\n",
       " <th colspan=\"4\">Currently commercially available technologies\n",
       " </th>,\n",
       " <th colspan=\"4\">Pre‐commercial technologies\n",
       " </th>]"
      ]
     },
     "execution_count": 10,
     "metadata": {},
     "output_type": "execute_result"
    }
   ],
   "source": [
    "lista_encabezados = medalleros.find_all(\"th\")\n",
    "lista_encabezados"
   ]
  },
  {
   "cell_type": "code",
   "execution_count": 11,
   "id": "296a3730",
   "metadata": {},
   "outputs": [
    {
     "data": {
      "text/plain": [
       "['Technology',\n",
       " 'Min.',\n",
       " 'Median',\n",
       " 'Max.\\n',\n",
       " 'Currently commercially available technologies\\n',\n",
       " 'Pre‐commercial technologies\\n']"
      ]
     },
     "execution_count": 11,
     "metadata": {},
     "output_type": "execute_result"
    }
   ],
   "source": [
    "encabezados = []\n",
    "for columna in lista_encabezados:\n",
    "    encabezados.append(columna.text)\n",
    "\n",
    "encabezados"
   ]
  },
  {
   "cell_type": "code",
   "execution_count": 12,
   "id": "fc478af5",
   "metadata": {},
   "outputs": [
    {
     "data": {
      "text/plain": [
       "['Technology',\n",
       " 'Min.',\n",
       " 'Median',\n",
       " 'Max.',\n",
       " 'Currently commercially available technologies',\n",
       " 'Pre‐commercial technologies']"
      ]
     },
     "execution_count": 12,
     "metadata": {},
     "output_type": "execute_result"
    }
   ],
   "source": [
    "encabezados_limpios = [element.replace('\\n', '') for element in encabezados]\n",
    "encabezados_limpios"
   ]
  },
  {
   "cell_type": "code",
   "execution_count": 13,
   "id": "760bd3e8",
   "metadata": {
    "scrolled": true
   },
   "outputs": [
    {
     "data": {
      "text/plain": [
       "[<tr>\n",
       " <td><a href=\"/wiki/Coal\" title=\"Coal\">Coal</a> – <a href=\"/wiki/Coal_burner\" title=\"Coal burner\">PC</a></td>\n",
       " <td align=\"right\">740</td>\n",
       " <td align=\"right\">820</td>\n",
       " <td align=\"right\">910\n",
       " </td></tr>,\n",
       " <tr>\n",
       " <td><a class=\"mw-redirect\" href=\"/wiki/Fossil_gas\" title=\"Fossil gas\">Gas</a> – <a class=\"mw-redirect\" href=\"/wiki/Combined_cycle\" title=\"Combined cycle\">combined cycle</a></td>\n",
       " <td align=\"right\">410</td>\n",
       " <td align=\"right\">490</td>\n",
       " <td align=\"right\">650\n",
       " </td></tr>,\n",
       " <tr>\n",
       " <td><a href=\"/wiki/Biomass\" title=\"Biomass\">Biomass</a> – Dedicated</td>\n",
       " <td align=\"right\">130</td>\n",
       " <td align=\"right\">230</td>\n",
       " <td align=\"right\">420\n",
       " </td></tr>,\n",
       " <tr>\n",
       " <td><a class=\"mw-redirect\" href=\"/wiki/Solar_PV\" title=\"Solar PV\">Solar PV</a> – Utility scale</td>\n",
       " <td align=\"right\">18</td>\n",
       " <td align=\"right\">48</td>\n",
       " <td align=\"right\">180\n",
       " </td></tr>,\n",
       " <tr>\n",
       " <td><a class=\"mw-redirect\" href=\"/wiki/Solar_PV\" title=\"Solar PV\">Solar PV</a> – rooftop</td>\n",
       " <td align=\"right\">26</td>\n",
       " <td align=\"right\">41</td>\n",
       " <td align=\"right\">60\n",
       " </td></tr>,\n",
       " <tr>\n",
       " <td><a href=\"/wiki/Geothermal_power\" title=\"Geothermal power\">Geothermal</a></td>\n",
       " <td align=\"right\">6.0</td>\n",
       " <td align=\"right\">38</td>\n",
       " <td align=\"right\">79\n",
       " </td></tr>,\n",
       " <tr>\n",
       " <td><a href=\"/wiki/Concentrated_solar_power\" title=\"Concentrated solar power\">Concentrated solar power</a></td>\n",
       " <td align=\"right\">8.8</td>\n",
       " <td align=\"right\">27</td>\n",
       " <td align=\"right\">63\n",
       " </td></tr>,\n",
       " <tr>\n",
       " <td><a href=\"/wiki/Hydropower\" title=\"Hydropower\">Hydropower</a></td>\n",
       " <td align=\"right\">1.0</td>\n",
       " <td align=\"right\">24</td>\n",
       " <td align=\"right\">2200<sup>1</sup>\n",
       " </td></tr>,\n",
       " <tr>\n",
       " <td><a href=\"/wiki/Wind_turbine\" title=\"Wind turbine\">Wind</a> Offshore</td>\n",
       " <td align=\"right\">8.0</td>\n",
       " <td align=\"right\">12</td>\n",
       " <td align=\"right\">35\n",
       " </td></tr>,\n",
       " <tr>\n",
       " <td><a href=\"/wiki/Nuclear_power\" title=\"Nuclear power\">Nuclear</a></td>\n",
       " <td align=\"right\">3.7</td>\n",
       " <td align=\"right\">12</td>\n",
       " <td align=\"right\">110\n",
       " </td></tr>,\n",
       " <tr>\n",
       " <td>Wind Onshore</td>\n",
       " <td align=\"right\">7.0</td>\n",
       " <td align=\"right\">11</td>\n",
       " <td align=\"right\">56\n",
       " </td></tr>,\n",
       " <tr>\n",
       " <th colspan=\"4\">Pre‐commercial technologies\n",
       " </th></tr>,\n",
       " <tr>\n",
       " <td>Ocean (<a href=\"/wiki/Tidal_power\" title=\"Tidal power\">Tidal</a> and <a href=\"/wiki/Wave_power\" title=\"Wave power\">wave</a>)</td>\n",
       " <td align=\"right\">5.6</td>\n",
       " <td align=\"right\">17</td>\n",
       " <td align=\"right\">28\n",
       " </td></tr>]"
      ]
     },
     "execution_count": 13,
     "metadata": {},
     "output_type": "execute_result"
    }
   ],
   "source": [
    "medalleros = medalleros.findAll(\"tr\")[2:]\n",
    "medalleros"
   ]
  },
  {
   "cell_type": "code",
   "execution_count": 23,
   "id": "baa249cc",
   "metadata": {},
   "outputs": [
    {
     "name": "stdout",
     "output_type": "stream",
     "text": [
      "Skipping row - not enough cells\n",
      "{'Technology': ['Coal – PC', 'Gas – combined cycle', 'Biomass – Dedicated', 'Solar PV – Utility scale', 'Solar PV – rooftop', 'Geothermal', 'Concentrated solar power', 'Hydropower', 'Wind Offshore', 'Nuclear', 'Wind Onshore', 'Ocean (Tidal and wave)'], 'Min.': ['740', '410', '130', '18', '26', '6.0', '8.8', '1.0', '8.0', '3.7', '7.0', '5.6'], 'Median': ['820', '490', '230', '48', '41', '38', '27', '24', '12', '12', '11', '17'], 'Max.': ['910', '650', '420', '180', '60', '79', '63', '22001', '35', '110', '56', '28']}\n"
     ]
    }
   ],
   "source": [
    "dictionary = {\"Technology\": [], \"Min.\": [], \"Median\": [], \"Max.\": []}\n",
    "\n",
    "for row in medalleros:\n",
    "    cells = row.find_all(\"td\")\n",
    "    \n",
    "    if len(cells) >= 4:\n",
    "        dictionary[\"Technology\"].append(cells[0].text.strip())\n",
    "        dictionary[\"Min.\"].append(cells[1].text.strip())\n",
    "        dictionary[\"Median\"].append(cells[2].text.strip())\n",
    "        dictionary[\"Max.\"].append(cells[3].text.strip())\n",
    "    else:\n",
    "        print(\"Skipping row - not enough cells\")\n",
    "\n",
    "print(dictionary)"
   ]
  },
  {
   "cell_type": "code",
   "execution_count": 15,
   "id": "9647c086",
   "metadata": {},
   "outputs": [
    {
     "data": {
      "text/html": [
       "<div>\n",
       "<style scoped>\n",
       "    .dataframe tbody tr th:only-of-type {\n",
       "        vertical-align: middle;\n",
       "    }\n",
       "\n",
       "    .dataframe tbody tr th {\n",
       "        vertical-align: top;\n",
       "    }\n",
       "\n",
       "    .dataframe thead th {\n",
       "        text-align: right;\n",
       "    }\n",
       "</style>\n",
       "<table border=\"1\" class=\"dataframe\">\n",
       "  <thead>\n",
       "    <tr style=\"text-align: right;\">\n",
       "      <th></th>\n",
       "      <th>Technology</th>\n",
       "      <th>Min.</th>\n",
       "      <th>Median</th>\n",
       "      <th>Max.</th>\n",
       "    </tr>\n",
       "  </thead>\n",
       "  <tbody>\n",
       "    <tr>\n",
       "      <th>0</th>\n",
       "      <td>Coal – PC</td>\n",
       "      <td>740</td>\n",
       "      <td>820</td>\n",
       "      <td>910</td>\n",
       "    </tr>\n",
       "    <tr>\n",
       "      <th>1</th>\n",
       "      <td>Gas – combined cycle</td>\n",
       "      <td>410</td>\n",
       "      <td>490</td>\n",
       "      <td>650</td>\n",
       "    </tr>\n",
       "    <tr>\n",
       "      <th>2</th>\n",
       "      <td>Biomass – Dedicated</td>\n",
       "      <td>130</td>\n",
       "      <td>230</td>\n",
       "      <td>420</td>\n",
       "    </tr>\n",
       "    <tr>\n",
       "      <th>3</th>\n",
       "      <td>Solar PV – Utility scale</td>\n",
       "      <td>18</td>\n",
       "      <td>48</td>\n",
       "      <td>180</td>\n",
       "    </tr>\n",
       "    <tr>\n",
       "      <th>4</th>\n",
       "      <td>Solar PV – rooftop</td>\n",
       "      <td>26</td>\n",
       "      <td>41</td>\n",
       "      <td>60</td>\n",
       "    </tr>\n",
       "    <tr>\n",
       "      <th>5</th>\n",
       "      <td>Geothermal</td>\n",
       "      <td>6.0</td>\n",
       "      <td>38</td>\n",
       "      <td>79</td>\n",
       "    </tr>\n",
       "    <tr>\n",
       "      <th>6</th>\n",
       "      <td>Concentrated solar power</td>\n",
       "      <td>8.8</td>\n",
       "      <td>27</td>\n",
       "      <td>63</td>\n",
       "    </tr>\n",
       "    <tr>\n",
       "      <th>7</th>\n",
       "      <td>Hydropower</td>\n",
       "      <td>1.0</td>\n",
       "      <td>24</td>\n",
       "      <td>22001</td>\n",
       "    </tr>\n",
       "    <tr>\n",
       "      <th>8</th>\n",
       "      <td>Wind Offshore</td>\n",
       "      <td>8.0</td>\n",
       "      <td>12</td>\n",
       "      <td>35</td>\n",
       "    </tr>\n",
       "    <tr>\n",
       "      <th>9</th>\n",
       "      <td>Nuclear</td>\n",
       "      <td>3.7</td>\n",
       "      <td>12</td>\n",
       "      <td>110</td>\n",
       "    </tr>\n",
       "    <tr>\n",
       "      <th>10</th>\n",
       "      <td>Wind Onshore</td>\n",
       "      <td>7.0</td>\n",
       "      <td>11</td>\n",
       "      <td>56</td>\n",
       "    </tr>\n",
       "    <tr>\n",
       "      <th>11</th>\n",
       "      <td>Ocean (Tidal and wave)</td>\n",
       "      <td>5.6</td>\n",
       "      <td>17</td>\n",
       "      <td>28</td>\n",
       "    </tr>\n",
       "  </tbody>\n",
       "</table>\n",
       "</div>"
      ],
      "text/plain": [
       "                  Technology Min. Median   Max.\n",
       "0                  Coal – PC  740    820    910\n",
       "1       Gas – combined cycle  410    490    650\n",
       "2        Biomass – Dedicated  130    230    420\n",
       "3   Solar PV – Utility scale   18     48    180\n",
       "4         Solar PV – rooftop   26     41     60\n",
       "5                 Geothermal  6.0     38     79\n",
       "6   Concentrated solar power  8.8     27     63\n",
       "7                 Hydropower  1.0     24  22001\n",
       "8              Wind Offshore  8.0     12     35\n",
       "9                    Nuclear  3.7     12    110\n",
       "10              Wind Onshore  7.0     11     56\n",
       "11    Ocean (Tidal and wave)  5.6     17     28"
      ]
     },
     "execution_count": 15,
     "metadata": {},
     "output_type": "execute_result"
    }
   ],
   "source": [
    "df = pd.DataFrame(dictionary)\n",
    "df"
   ]
  },
  {
   "cell_type": "code",
   "execution_count": 18,
   "id": "dd7e1983",
   "metadata": {},
   "outputs": [],
   "source": [
    "# Save DataFrame to a CSV file\n",
    "df.to_csv('lifecicleWIKI.csv', index=False)"
   ]
  },
  {
   "cell_type": "code",
   "execution_count": null,
   "id": "2d3b0503",
   "metadata": {},
   "outputs": [],
   "source": [
    "df = pd.DataFrame(dictionary)\n"
   ]
  },
  {
   "cell_type": "code",
   "execution_count": null,
   "id": "2519c3f8",
   "metadata": {},
   "outputs": [],
   "source": [
    "df"
   ]
  },
  {
   "cell_type": "code",
   "execution_count": null,
   "id": "9fb95fef",
   "metadata": {},
   "outputs": [],
   "source": [
    "CHANGES NAMES FROM MEDALLEROS AND MEDALLERO CHECK IT OUT"
   ]
  },
  {
   "cell_type": "code",
   "execution_count": null,
   "id": "7db05812",
   "metadata": {},
   "outputs": [],
   "source": []
  },
  {
   "cell_type": "code",
   "execution_count": null,
   "id": "d5ae2c2b",
   "metadata": {},
   "outputs": [],
   "source": []
  },
  {
   "cell_type": "code",
   "execution_count": null,
   "id": "afa4ba73",
   "metadata": {},
   "outputs": [],
   "source": []
  },
  {
   "cell_type": "code",
   "execution_count": null,
   "id": "2892f050",
   "metadata": {},
   "outputs": [],
   "source": []
  },
  {
   "cell_type": "code",
   "execution_count": null,
   "id": "2da80922",
   "metadata": {},
   "outputs": [],
   "source": []
  }
 ],
 "metadata": {
  "kernelspec": {
   "display_name": "Python 3 (ipykernel)",
   "language": "python",
   "name": "python3"
  },
  "language_info": {
   "codemirror_mode": {
    "name": "ipython",
    "version": 3
   },
   "file_extension": ".py",
   "mimetype": "text/x-python",
   "name": "python",
   "nbconvert_exporter": "python",
   "pygments_lexer": "ipython3",
   "version": "3.11.5"
  }
 },
 "nbformat": 4,
 "nbformat_minor": 5
}
