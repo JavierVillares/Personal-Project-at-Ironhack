{
 "cells": [
  {
   "cell_type": "code",
   "execution_count": null,
   "id": "f82af044",
   "metadata": {},
   "outputs": [],
   "source": [
    "#first let's try to get the powerplant databases"
   ]
  },
  {
   "cell_type": "code",
   "execution_count": null,
   "id": "8827768e",
   "metadata": {},
   "outputs": [],
   "source": [
    "#coal powerplant data base from 'https://powerplantmatching.readthedocs.io/en/latest/getting-started.html'"
   ]
  },
  {
   "cell_type": "code",
   "execution_count": 3,
   "id": "4eba389b",
   "metadata": {},
   "outputs": [
    {
     "name": "stderr",
     "output_type": "stream",
     "text": [
      "INFO:numexpr.utils:Note: NumExpr detected 10 cores but \"NUMEXPR_MAX_THREADS\" not set, so enforcing safe limit of 8.\n",
      "INFO:numexpr.utils:NumExpr defaulting to 8 threads.\n",
      "WARNING:powerplantmatching.plot:Cartopy not existent.\n",
      "INFO:powerplantmatching.collection:Retrieving data from https://raw.githubusercontent.com/FRESNA/powerplantmatching/v0.5.12/powerplants.csv\n",
      "INFO:powerplantmatching.collection:Store data at /Users/javi/.local/share/powerplantmatching/data/out/default/matched_data_red.csv\n"
     ]
    }
   ],
   "source": [
    "# !pip install powerplantmatching\n",
    "import powerplantmatching as pm\n",
    "df = pm.powerplants(from_url=True)"
   ]
  },
  {
   "cell_type": "code",
   "execution_count": 4,
   "id": "af9e8ccd",
   "metadata": {},
   "outputs": [
    {
     "data": {
      "text/plain": [
       "(6374, 18)"
      ]
     },
     "execution_count": 4,
     "metadata": {},
     "output_type": "execute_result"
    }
   ],
   "source": [
    "df.shape"
   ]
  },
  {
   "cell_type": "code",
   "execution_count": 5,
   "id": "86cf99f6",
   "metadata": {},
   "outputs": [
    {
     "name": "stdout",
     "output_type": "stream",
     "text": [
      "<class 'pandas.core.frame.DataFrame'>\n",
      "Index: 6374 entries, 0 to 6616\n",
      "Data columns (total 18 columns):\n",
      " #   Column               Non-Null Count  Dtype  \n",
      "---  ------               --------------  -----  \n",
      " 0   Name                 6374 non-null   object \n",
      " 1   Fueltype             6374 non-null   object \n",
      " 2   Technology           5702 non-null   object \n",
      " 3   Set                  6374 non-null   object \n",
      " 4   Country              6374 non-null   object \n",
      " 5   Capacity             6374 non-null   float64\n",
      " 6   Efficiency           542 non-null    float64\n",
      " 7   DateIn               4450 non-null   float64\n",
      " 8   DateRetrofit         1871 non-null   float64\n",
      " 9   DateOut              349 non-null    float64\n",
      " 10  lat                  6374 non-null   float64\n",
      " 11  lon                  6374 non-null   float64\n",
      " 12  Duration             452 non-null    float64\n",
      " 13  Volume_Mm3           6374 non-null   float64\n",
      " 14  DamHeight_m          6374 non-null   float64\n",
      " 15  StorageCapacity_MWh  6374 non-null   float64\n",
      " 16  EIC                  6374 non-null   object \n",
      " 17  projectID            6374 non-null   object \n",
      "dtypes: float64(11), object(7)\n",
      "memory usage: 946.1+ KB\n"
     ]
    }
   ],
   "source": [
    "df.info()"
   ]
  },
  {
   "cell_type": "code",
   "execution_count": 6,
   "id": "6655e746",
   "metadata": {},
   "outputs": [
    {
     "data": {
      "text/plain": [
       "Matched Data\n",
       "Name                      0\n",
       "Fueltype                  0\n",
       "Technology              672\n",
       "Set                       0\n",
       "Country                   0\n",
       "Capacity                  0\n",
       "Efficiency             5832\n",
       "DateIn                 1924\n",
       "DateRetrofit           4503\n",
       "DateOut                6025\n",
       "lat                       0\n",
       "lon                       0\n",
       "Duration               5922\n",
       "Volume_Mm3                0\n",
       "DamHeight_m               0\n",
       "StorageCapacity_MWh       0\n",
       "EIC                       0\n",
       "projectID                 0\n",
       "dtype: int64"
      ]
     },
     "execution_count": 6,
     "metadata": {},
     "output_type": "execute_result"
    }
   ],
   "source": [
    "df.isna().sum()"
   ]
  },
  {
   "cell_type": "code",
   "execution_count": 7,
   "id": "9fb68078",
   "metadata": {},
   "outputs": [
    {
     "data": {
      "text/plain": [
       "Fueltype\n",
       "Hydro          3289\n",
       "Wind           1255\n",
       "Natural Gas     599\n",
       "Solar           383\n",
       "Hard Coal       282\n",
       "Lignite         131\n",
       "Bioenergy       116\n",
       "Oil              97\n",
       "Waste            94\n",
       "Nuclear          66\n",
       "Other            38\n",
       "Geothermal       24\n",
       "Name: count, dtype: int64"
      ]
     },
     "execution_count": 7,
     "metadata": {},
     "output_type": "execute_result"
    }
   ],
   "source": [
    "df['Fueltype'].value_counts()"
   ]
  },
  {
   "cell_type": "code",
   "execution_count": 14,
   "id": "85e9c845",
   "metadata": {},
   "outputs": [
    {
     "data": {
      "text/plain": [
       "array(['Steam Turbine', 'Reservoir', 'Pumped Storage', 'Run-Of-River',\n",
       "       'CCGT', 'Onshore', 'Offshore', 'Unknown', 'Marine', 'Not Found',\n",
       "       nan, 'Csp', 'Pv', 'Offshore Mount Unknown', 'Offshore Hard Mount',\n",
       "       'Assumed Pv', 'CSP', 'Combustion Engine'], dtype=object)"
      ]
     },
     "execution_count": 14,
     "metadata": {},
     "output_type": "execute_result"
    }
   ],
   "source": [
    "df['Technology'].unique()"
   ]
  },
  {
   "cell_type": "code",
   "execution_count": 15,
   "id": "71920df8",
   "metadata": {},
   "outputs": [
    {
     "data": {
      "text/plain": [
       "array(['PP', 'Store', 'CHP'], dtype=object)"
      ]
     },
     "execution_count": 15,
     "metadata": {},
     "output_type": "execute_result"
    }
   ],
   "source": [
    "df['Set'].unique()"
   ]
  },
  {
   "cell_type": "code",
   "execution_count": 17,
   "id": "9a5708ec",
   "metadata": {},
   "outputs": [
    {
     "data": {
      "text/plain": [
       "array(['Netherlands', 'France', 'Italy', 'United Kingdom', 'Switzerland',\n",
       "       'Austria', 'Belgium', 'Sweden', 'Poland', 'Germany', 'Finland',\n",
       "       'Portugal', 'Denmark', 'Norway', 'Slovakia', 'Slovenia', 'Ireland',\n",
       "       'Greece', 'Albania', 'Spain', 'Hungary', 'Romania', 'Bulgaria',\n",
       "       'Serbia', 'Latvia', 'Lithuania', 'Bosnia and Herzegovina',\n",
       "       'Croatia', 'Montenegro', 'Luxembourg', 'Estonia', 'Ukraine',\n",
       "       'Moldova', 'Czech Republic'], dtype=object)"
      ]
     },
     "execution_count": 17,
     "metadata": {},
     "output_type": "execute_result"
    }
   ],
   "source": [
    "df['Country'].unique()"
   ]
  },
  {
   "cell_type": "code",
   "execution_count": 18,
   "id": "4c2d323a",
   "metadata": {},
   "outputs": [
    {
     "data": {
      "text/html": [
       "<div>\n",
       "<style scoped>\n",
       "    .dataframe tbody tr th:only-of-type {\n",
       "        vertical-align: middle;\n",
       "    }\n",
       "\n",
       "    .dataframe tbody tr th {\n",
       "        vertical-align: top;\n",
       "    }\n",
       "\n",
       "    .dataframe thead th {\n",
       "        text-align: right;\n",
       "    }\n",
       "</style>\n",
       "<table border=\"1\" class=\"dataframe\">\n",
       "  <thead>\n",
       "    <tr style=\"text-align: right;\">\n",
       "      <th>Matched Data</th>\n",
       "      <th>Name</th>\n",
       "      <th>Fueltype</th>\n",
       "      <th>Technology</th>\n",
       "      <th>Set</th>\n",
       "      <th>Country</th>\n",
       "      <th>Capacity</th>\n",
       "      <th>Efficiency</th>\n",
       "      <th>DateIn</th>\n",
       "      <th>DateRetrofit</th>\n",
       "      <th>DateOut</th>\n",
       "      <th>lat</th>\n",
       "      <th>lon</th>\n",
       "      <th>Duration</th>\n",
       "      <th>Volume_Mm3</th>\n",
       "      <th>DamHeight_m</th>\n",
       "      <th>StorageCapacity_MWh</th>\n",
       "      <th>EIC</th>\n",
       "      <th>projectID</th>\n",
       "    </tr>\n",
       "    <tr>\n",
       "      <th>id</th>\n",
       "      <th></th>\n",
       "      <th></th>\n",
       "      <th></th>\n",
       "      <th></th>\n",
       "      <th></th>\n",
       "      <th></th>\n",
       "      <th></th>\n",
       "      <th></th>\n",
       "      <th></th>\n",
       "      <th></th>\n",
       "      <th></th>\n",
       "      <th></th>\n",
       "      <th></th>\n",
       "      <th></th>\n",
       "      <th></th>\n",
       "      <th></th>\n",
       "      <th></th>\n",
       "      <th></th>\n",
       "    </tr>\n",
       "  </thead>\n",
       "  <tbody>\n",
       "    <tr>\n",
       "      <th>6612</th>\n",
       "      <td>Zabrze</td>\n",
       "      <td>Hard Coal</td>\n",
       "      <td>NaN</td>\n",
       "      <td>PP</td>\n",
       "      <td>Poland</td>\n",
       "      <td>68.223335</td>\n",
       "      <td>NaN</td>\n",
       "      <td>1976.0</td>\n",
       "      <td>NaN</td>\n",
       "      <td>NaN</td>\n",
       "      <td>50.2992</td>\n",
       "      <td>18.8123</td>\n",
       "      <td>NaN</td>\n",
       "      <td>0.0</td>\n",
       "      <td>0.0</td>\n",
       "      <td>0.0</td>\n",
       "      <td>{nan}</td>\n",
       "      <td>{'BEYONDCOAL': {'BEYOND-PL-237'}}</td>\n",
       "    </tr>\n",
       "    <tr>\n",
       "      <th>6613</th>\n",
       "      <td>Zalau</td>\n",
       "      <td>Lignite</td>\n",
       "      <td>NaN</td>\n",
       "      <td>PP</td>\n",
       "      <td>Romania</td>\n",
       "      <td>0.000000</td>\n",
       "      <td>NaN</td>\n",
       "      <td>1982.0</td>\n",
       "      <td>NaN</td>\n",
       "      <td>2015.0</td>\n",
       "      <td>47.2103</td>\n",
       "      <td>23.0324</td>\n",
       "      <td>NaN</td>\n",
       "      <td>0.0</td>\n",
       "      <td>0.0</td>\n",
       "      <td>0.0</td>\n",
       "      <td>{nan}</td>\n",
       "      <td>{'BEYONDCOAL': {'BEYOND-RO-19'}}</td>\n",
       "    </tr>\n",
       "    <tr>\n",
       "      <th>6614</th>\n",
       "      <td>Zavod</td>\n",
       "      <td>Lignite</td>\n",
       "      <td>NaN</td>\n",
       "      <td>PP</td>\n",
       "      <td>Czech Republic</td>\n",
       "      <td>142.931681</td>\n",
       "      <td>NaN</td>\n",
       "      <td>1970.0</td>\n",
       "      <td>NaN</td>\n",
       "      <td>NaN</td>\n",
       "      <td>49.7959</td>\n",
       "      <td>18.3058</td>\n",
       "      <td>NaN</td>\n",
       "      <td>0.0</td>\n",
       "      <td>0.0</td>\n",
       "      <td>0.0</td>\n",
       "      <td>{nan}</td>\n",
       "      <td>{'BEYONDCOAL': {'BEYOND-CZ-30'}}</td>\n",
       "    </tr>\n",
       "    <tr>\n",
       "      <th>6615</th>\n",
       "      <td>Zlin</td>\n",
       "      <td>Lignite</td>\n",
       "      <td>NaN</td>\n",
       "      <td>PP</td>\n",
       "      <td>Czech Republic</td>\n",
       "      <td>56.250532</td>\n",
       "      <td>NaN</td>\n",
       "      <td>1938.0</td>\n",
       "      <td>NaN</td>\n",
       "      <td>NaN</td>\n",
       "      <td>49.2254</td>\n",
       "      <td>17.6538</td>\n",
       "      <td>NaN</td>\n",
       "      <td>0.0</td>\n",
       "      <td>0.0</td>\n",
       "      <td>0.0</td>\n",
       "      <td>{nan}</td>\n",
       "      <td>{'BEYONDCOAL': {'BEYOND-CZ-59'}}</td>\n",
       "    </tr>\n",
       "    <tr>\n",
       "      <th>6616</th>\n",
       "      <td>Zvolenska</td>\n",
       "      <td>Lignite</td>\n",
       "      <td>NaN</td>\n",
       "      <td>PP</td>\n",
       "      <td>Slovakia</td>\n",
       "      <td>40.574155</td>\n",
       "      <td>NaN</td>\n",
       "      <td>1986.0</td>\n",
       "      <td>NaN</td>\n",
       "      <td>NaN</td>\n",
       "      <td>48.5667</td>\n",
       "      <td>19.1700</td>\n",
       "      <td>NaN</td>\n",
       "      <td>0.0</td>\n",
       "      <td>0.0</td>\n",
       "      <td>0.0</td>\n",
       "      <td>{nan}</td>\n",
       "      <td>{'BEYONDCOAL': {'BEYOND-SK-17'}}</td>\n",
       "    </tr>\n",
       "  </tbody>\n",
       "</table>\n",
       "</div>"
      ],
      "text/plain": [
       "Matched Data       Name   Fueltype Technology Set         Country    Capacity  \\\n",
       "id                                                                              \n",
       "6612             Zabrze  Hard Coal        NaN  PP          Poland   68.223335   \n",
       "6613              Zalau    Lignite        NaN  PP         Romania    0.000000   \n",
       "6614              Zavod    Lignite        NaN  PP  Czech Republic  142.931681   \n",
       "6615               Zlin    Lignite        NaN  PP  Czech Republic   56.250532   \n",
       "6616          Zvolenska    Lignite        NaN  PP        Slovakia   40.574155   \n",
       "\n",
       "Matched Data  Efficiency  DateIn  DateRetrofit  DateOut      lat      lon  \\\n",
       "id                                                                          \n",
       "6612                 NaN  1976.0           NaN      NaN  50.2992  18.8123   \n",
       "6613                 NaN  1982.0           NaN   2015.0  47.2103  23.0324   \n",
       "6614                 NaN  1970.0           NaN      NaN  49.7959  18.3058   \n",
       "6615                 NaN  1938.0           NaN      NaN  49.2254  17.6538   \n",
       "6616                 NaN  1986.0           NaN      NaN  48.5667  19.1700   \n",
       "\n",
       "Matched Data  Duration  Volume_Mm3  DamHeight_m  StorageCapacity_MWh    EIC  \\\n",
       "id                                                                            \n",
       "6612               NaN         0.0          0.0                  0.0  {nan}   \n",
       "6613               NaN         0.0          0.0                  0.0  {nan}   \n",
       "6614               NaN         0.0          0.0                  0.0  {nan}   \n",
       "6615               NaN         0.0          0.0                  0.0  {nan}   \n",
       "6616               NaN         0.0          0.0                  0.0  {nan}   \n",
       "\n",
       "Matched Data                          projectID  \n",
       "id                                               \n",
       "6612          {'BEYONDCOAL': {'BEYOND-PL-237'}}  \n",
       "6613           {'BEYONDCOAL': {'BEYOND-RO-19'}}  \n",
       "6614           {'BEYONDCOAL': {'BEYOND-CZ-30'}}  \n",
       "6615           {'BEYONDCOAL': {'BEYOND-CZ-59'}}  \n",
       "6616           {'BEYONDCOAL': {'BEYOND-SK-17'}}  "
      ]
     },
     "execution_count": 18,
     "metadata": {},
     "output_type": "execute_result"
    }
   ],
   "source": [
    "df.tail()"
   ]
  },
  {
   "cell_type": "code",
   "execution_count": null,
   "id": "2cebd989",
   "metadata": {},
   "outputs": [],
   "source": []
  }
 ],
 "metadata": {
  "kernelspec": {
   "display_name": "Python 3 (ipykernel)",
   "language": "python",
   "name": "python3"
  },
  "language_info": {
   "codemirror_mode": {
    "name": "ipython",
    "version": 3
   },
   "file_extension": ".py",
   "mimetype": "text/x-python",
   "name": "python",
   "nbconvert_exporter": "python",
   "pygments_lexer": "ipython3",
   "version": "3.11.5"
  }
 },
 "nbformat": 4,
 "nbformat_minor": 5
}
